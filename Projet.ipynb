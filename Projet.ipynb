{
 "cells": [
  {
   "cell_type": "markdown",
   "id": "98d90357-1100-4510-83b2-69d471b5e91b",
   "metadata": {},
   "source": [
    "# Importation des données et des bibliothèques"
   ]
  },
  {
   "cell_type": "code",
   "execution_count": 171,
   "id": "27d32032-beaf-4172-967b-7415c07d2531",
   "metadata": {},
   "outputs": [],
   "source": [
    "import numpy as np\n",
    "import pandas as pd\n",
    "import matplotlib.pyplot as plt\n",
    "from sklearn.preprocessing import StandardScaler, LabelEncoder\n",
    "import seaborn as sns\n",
    "from sklearn.decomposition import PCA\n",
    "import plotly.express as px\n",
    "from sklearn.model_selection import train_test_split\n",
    "from sklearn.neighbors import KNeighborsClassifier\n",
    "from sklearn.metrics import accuracy_score\n",
    "from sklearn.model_selection import GridSearchCV\n",
    "from sklearn.linear_model import LogisticRegression"
   ]
  },
  {
   "cell_type": "code",
   "execution_count": 37,
   "id": "b753d52a-598b-4716-b7fd-b8d8c541cb64",
   "metadata": {},
   "outputs": [],
   "source": [
    "data = pd.read_csv(\"bird.csv\")"
   ]
  },
  {
   "cell_type": "code",
   "execution_count": 38,
   "id": "b8e1902c-b074-48dc-b337-d14302079359",
   "metadata": {},
   "outputs": [
    {
     "data": {
      "text/html": [
       "<div>\n",
       "<style scoped>\n",
       "    .dataframe tbody tr th:only-of-type {\n",
       "        vertical-align: middle;\n",
       "    }\n",
       "\n",
       "    .dataframe tbody tr th {\n",
       "        vertical-align: top;\n",
       "    }\n",
       "\n",
       "    .dataframe thead th {\n",
       "        text-align: right;\n",
       "    }\n",
       "</style>\n",
       "<table border=\"1\" class=\"dataframe\">\n",
       "  <thead>\n",
       "    <tr style=\"text-align: right;\">\n",
       "      <th></th>\n",
       "      <th>id</th>\n",
       "      <th>huml</th>\n",
       "      <th>humw</th>\n",
       "      <th>ulnal</th>\n",
       "      <th>ulnaw</th>\n",
       "      <th>feml</th>\n",
       "      <th>femw</th>\n",
       "      <th>tibl</th>\n",
       "      <th>tibw</th>\n",
       "      <th>tarl</th>\n",
       "      <th>tarw</th>\n",
       "      <th>type</th>\n",
       "    </tr>\n",
       "  </thead>\n",
       "  <tbody>\n",
       "    <tr>\n",
       "      <th>0</th>\n",
       "      <td>0</td>\n",
       "      <td>80.78</td>\n",
       "      <td>6.68</td>\n",
       "      <td>72.01</td>\n",
       "      <td>4.88</td>\n",
       "      <td>41.81</td>\n",
       "      <td>3.70</td>\n",
       "      <td>5.50</td>\n",
       "      <td>4.03</td>\n",
       "      <td>38.70</td>\n",
       "      <td>3.84</td>\n",
       "      <td>SW</td>\n",
       "    </tr>\n",
       "    <tr>\n",
       "      <th>1</th>\n",
       "      <td>1</td>\n",
       "      <td>88.91</td>\n",
       "      <td>6.63</td>\n",
       "      <td>80.53</td>\n",
       "      <td>5.59</td>\n",
       "      <td>47.04</td>\n",
       "      <td>4.30</td>\n",
       "      <td>80.22</td>\n",
       "      <td>4.51</td>\n",
       "      <td>41.50</td>\n",
       "      <td>4.01</td>\n",
       "      <td>SW</td>\n",
       "    </tr>\n",
       "    <tr>\n",
       "      <th>2</th>\n",
       "      <td>2</td>\n",
       "      <td>79.97</td>\n",
       "      <td>6.37</td>\n",
       "      <td>69.26</td>\n",
       "      <td>5.28</td>\n",
       "      <td>43.07</td>\n",
       "      <td>3.90</td>\n",
       "      <td>75.35</td>\n",
       "      <td>4.04</td>\n",
       "      <td>38.31</td>\n",
       "      <td>3.34</td>\n",
       "      <td>SW</td>\n",
       "    </tr>\n",
       "    <tr>\n",
       "      <th>3</th>\n",
       "      <td>3</td>\n",
       "      <td>77.65</td>\n",
       "      <td>5.70</td>\n",
       "      <td>65.76</td>\n",
       "      <td>4.77</td>\n",
       "      <td>40.04</td>\n",
       "      <td>3.52</td>\n",
       "      <td>69.17</td>\n",
       "      <td>3.40</td>\n",
       "      <td>35.78</td>\n",
       "      <td>3.41</td>\n",
       "      <td>SW</td>\n",
       "    </tr>\n",
       "    <tr>\n",
       "      <th>4</th>\n",
       "      <td>4</td>\n",
       "      <td>62.80</td>\n",
       "      <td>4.84</td>\n",
       "      <td>52.09</td>\n",
       "      <td>3.73</td>\n",
       "      <td>33.95</td>\n",
       "      <td>2.72</td>\n",
       "      <td>56.27</td>\n",
       "      <td>2.96</td>\n",
       "      <td>31.88</td>\n",
       "      <td>3.13</td>\n",
       "      <td>SW</td>\n",
       "    </tr>\n",
       "    <tr>\n",
       "      <th>...</th>\n",
       "      <td>...</td>\n",
       "      <td>...</td>\n",
       "      <td>...</td>\n",
       "      <td>...</td>\n",
       "      <td>...</td>\n",
       "      <td>...</td>\n",
       "      <td>...</td>\n",
       "      <td>...</td>\n",
       "      <td>...</td>\n",
       "      <td>...</td>\n",
       "      <td>...</td>\n",
       "      <td>...</td>\n",
       "    </tr>\n",
       "    <tr>\n",
       "      <th>415</th>\n",
       "      <td>415</td>\n",
       "      <td>17.96</td>\n",
       "      <td>1.63</td>\n",
       "      <td>19.25</td>\n",
       "      <td>1.33</td>\n",
       "      <td>18.36</td>\n",
       "      <td>1.54</td>\n",
       "      <td>31.25</td>\n",
       "      <td>1.33</td>\n",
       "      <td>21.99</td>\n",
       "      <td>1.15</td>\n",
       "      <td>SO</td>\n",
       "    </tr>\n",
       "    <tr>\n",
       "      <th>416</th>\n",
       "      <td>416</td>\n",
       "      <td>19.21</td>\n",
       "      <td>1.64</td>\n",
       "      <td>20.76</td>\n",
       "      <td>1.49</td>\n",
       "      <td>19.24</td>\n",
       "      <td>1.45</td>\n",
       "      <td>33.21</td>\n",
       "      <td>1.28</td>\n",
       "      <td>23.60</td>\n",
       "      <td>1.15</td>\n",
       "      <td>SO</td>\n",
       "    </tr>\n",
       "    <tr>\n",
       "      <th>417</th>\n",
       "      <td>417</td>\n",
       "      <td>18.79</td>\n",
       "      <td>1.63</td>\n",
       "      <td>19.83</td>\n",
       "      <td>1.53</td>\n",
       "      <td>20.96</td>\n",
       "      <td>1.43</td>\n",
       "      <td>34.45</td>\n",
       "      <td>1.41</td>\n",
       "      <td>22.86</td>\n",
       "      <td>1.21</td>\n",
       "      <td>SO</td>\n",
       "    </tr>\n",
       "    <tr>\n",
       "      <th>418</th>\n",
       "      <td>418</td>\n",
       "      <td>20.38</td>\n",
       "      <td>1.78</td>\n",
       "      <td>22.53</td>\n",
       "      <td>1.50</td>\n",
       "      <td>21.35</td>\n",
       "      <td>1.48</td>\n",
       "      <td>36.09</td>\n",
       "      <td>1.53</td>\n",
       "      <td>25.98</td>\n",
       "      <td>1.24</td>\n",
       "      <td>SO</td>\n",
       "    </tr>\n",
       "    <tr>\n",
       "      <th>419</th>\n",
       "      <td>419</td>\n",
       "      <td>17.89</td>\n",
       "      <td>1.44</td>\n",
       "      <td>19.26</td>\n",
       "      <td>1.10</td>\n",
       "      <td>17.62</td>\n",
       "      <td>1.34</td>\n",
       "      <td>29.81</td>\n",
       "      <td>1.24</td>\n",
       "      <td>21.69</td>\n",
       "      <td>1.05</td>\n",
       "      <td>SO</td>\n",
       "    </tr>\n",
       "  </tbody>\n",
       "</table>\n",
       "<p>420 rows × 12 columns</p>\n",
       "</div>"
      ],
      "text/plain": [
       "      id   huml  humw  ulnal  ulnaw   feml  femw   tibl  tibw   tarl  tarw  \\\n",
       "0      0  80.78  6.68  72.01   4.88  41.81  3.70   5.50  4.03  38.70  3.84   \n",
       "1      1  88.91  6.63  80.53   5.59  47.04  4.30  80.22  4.51  41.50  4.01   \n",
       "2      2  79.97  6.37  69.26   5.28  43.07  3.90  75.35  4.04  38.31  3.34   \n",
       "3      3  77.65  5.70  65.76   4.77  40.04  3.52  69.17  3.40  35.78  3.41   \n",
       "4      4  62.80  4.84  52.09   3.73  33.95  2.72  56.27  2.96  31.88  3.13   \n",
       "..   ...    ...   ...    ...    ...    ...   ...    ...   ...    ...   ...   \n",
       "415  415  17.96  1.63  19.25   1.33  18.36  1.54  31.25  1.33  21.99  1.15   \n",
       "416  416  19.21  1.64  20.76   1.49  19.24  1.45  33.21  1.28  23.60  1.15   \n",
       "417  417  18.79  1.63  19.83   1.53  20.96  1.43  34.45  1.41  22.86  1.21   \n",
       "418  418  20.38  1.78  22.53   1.50  21.35  1.48  36.09  1.53  25.98  1.24   \n",
       "419  419  17.89  1.44  19.26   1.10  17.62  1.34  29.81  1.24  21.69  1.05   \n",
       "\n",
       "    type  \n",
       "0     SW  \n",
       "1     SW  \n",
       "2     SW  \n",
       "3     SW  \n",
       "4     SW  \n",
       "..   ...  \n",
       "415   SO  \n",
       "416   SO  \n",
       "417   SO  \n",
       "418   SO  \n",
       "419   SO  \n",
       "\n",
       "[420 rows x 12 columns]"
      ]
     },
     "execution_count": 38,
     "metadata": {},
     "output_type": "execute_result"
    }
   ],
   "source": [
    "data"
   ]
  },
  {
   "cell_type": "markdown",
   "id": "a93e670a-9701-44cf-8443-a4b37f338d9c",
   "metadata": {},
   "source": [
    "## Analyse des données"
   ]
  },
  {
   "cell_type": "code",
   "execution_count": 16,
   "id": "0b91ac86-74c5-4ab7-92b0-70e0107881d9",
   "metadata": {},
   "outputs": [
    {
     "name": "stdout",
     "output_type": "stream",
     "text": [
      "Le nombre d'attributs dans la dataframe est : 12\n",
      "Le nombre d'observations dans la dataframe est : 420\n"
     ]
    }
   ],
   "source": [
    "print(f\"Le nombre d'attributs dans la dataframe est : {data.shape[1]}\")\n",
    "print(f\"Le nombre d'observations dans la dataframe est : {data.shape[0]}\")"
   ]
  },
  {
   "cell_type": "code",
   "execution_count": 22,
   "id": "0f40cdc3-a5fd-4fb6-898f-15d25620e7df",
   "metadata": {},
   "outputs": [
    {
     "name": "stdout",
     "output_type": "stream",
     "text": [
      "Les statistiques du dataframe avant le pré traitement sont :\n",
      "\n"
     ]
    },
    {
     "data": {
      "text/html": [
       "<div>\n",
       "<style scoped>\n",
       "    .dataframe tbody tr th:only-of-type {\n",
       "        vertical-align: middle;\n",
       "    }\n",
       "\n",
       "    .dataframe tbody tr th {\n",
       "        vertical-align: top;\n",
       "    }\n",
       "\n",
       "    .dataframe thead th {\n",
       "        text-align: right;\n",
       "    }\n",
       "</style>\n",
       "<table border=\"1\" class=\"dataframe\">\n",
       "  <thead>\n",
       "    <tr style=\"text-align: right;\">\n",
       "      <th></th>\n",
       "      <th>id</th>\n",
       "      <th>huml</th>\n",
       "      <th>humw</th>\n",
       "      <th>ulnal</th>\n",
       "      <th>ulnaw</th>\n",
       "      <th>feml</th>\n",
       "      <th>femw</th>\n",
       "      <th>tibl</th>\n",
       "      <th>tibw</th>\n",
       "      <th>tarl</th>\n",
       "      <th>tarw</th>\n",
       "    </tr>\n",
       "  </thead>\n",
       "  <tbody>\n",
       "    <tr>\n",
       "      <th>count</th>\n",
       "      <td>420.000000</td>\n",
       "      <td>419.000000</td>\n",
       "      <td>419.000000</td>\n",
       "      <td>417.000000</td>\n",
       "      <td>418.000000</td>\n",
       "      <td>418.000000</td>\n",
       "      <td>419.000000</td>\n",
       "      <td>418.000000</td>\n",
       "      <td>419.000000</td>\n",
       "      <td>419.000000</td>\n",
       "      <td>419.000000</td>\n",
       "    </tr>\n",
       "    <tr>\n",
       "      <th>mean</th>\n",
       "      <td>209.500000</td>\n",
       "      <td>64.650501</td>\n",
       "      <td>4.370573</td>\n",
       "      <td>69.115372</td>\n",
       "      <td>3.597249</td>\n",
       "      <td>36.872416</td>\n",
       "      <td>3.220883</td>\n",
       "      <td>64.662823</td>\n",
       "      <td>3.182339</td>\n",
       "      <td>39.229976</td>\n",
       "      <td>2.930024</td>\n",
       "    </tr>\n",
       "    <tr>\n",
       "      <th>std</th>\n",
       "      <td>121.387808</td>\n",
       "      <td>53.834549</td>\n",
       "      <td>2.854617</td>\n",
       "      <td>58.784775</td>\n",
       "      <td>2.186747</td>\n",
       "      <td>19.979082</td>\n",
       "      <td>2.023581</td>\n",
       "      <td>37.838145</td>\n",
       "      <td>2.080827</td>\n",
       "      <td>23.184313</td>\n",
       "      <td>2.185673</td>\n",
       "    </tr>\n",
       "    <tr>\n",
       "      <th>min</th>\n",
       "      <td>0.000000</td>\n",
       "      <td>9.850000</td>\n",
       "      <td>1.140000</td>\n",
       "      <td>14.090000</td>\n",
       "      <td>1.000000</td>\n",
       "      <td>11.830000</td>\n",
       "      <td>0.930000</td>\n",
       "      <td>5.500000</td>\n",
       "      <td>0.870000</td>\n",
       "      <td>7.770000</td>\n",
       "      <td>0.660000</td>\n",
       "    </tr>\n",
       "    <tr>\n",
       "      <th>25%</th>\n",
       "      <td>104.750000</td>\n",
       "      <td>25.170000</td>\n",
       "      <td>2.190000</td>\n",
       "      <td>28.050000</td>\n",
       "      <td>1.870000</td>\n",
       "      <td>21.297500</td>\n",
       "      <td>1.715000</td>\n",
       "      <td>36.417500</td>\n",
       "      <td>1.565000</td>\n",
       "      <td>23.035000</td>\n",
       "      <td>1.425000</td>\n",
       "    </tr>\n",
       "    <tr>\n",
       "      <th>50%</th>\n",
       "      <td>209.500000</td>\n",
       "      <td>44.180000</td>\n",
       "      <td>3.500000</td>\n",
       "      <td>43.710000</td>\n",
       "      <td>2.945000</td>\n",
       "      <td>31.130000</td>\n",
       "      <td>2.520000</td>\n",
       "      <td>52.120000</td>\n",
       "      <td>2.490000</td>\n",
       "      <td>31.740000</td>\n",
       "      <td>2.230000</td>\n",
       "    </tr>\n",
       "    <tr>\n",
       "      <th>75%</th>\n",
       "      <td>314.250000</td>\n",
       "      <td>90.310000</td>\n",
       "      <td>5.810000</td>\n",
       "      <td>97.520000</td>\n",
       "      <td>4.770000</td>\n",
       "      <td>47.120000</td>\n",
       "      <td>4.135000</td>\n",
       "      <td>82.870000</td>\n",
       "      <td>4.255000</td>\n",
       "      <td>50.250000</td>\n",
       "      <td>3.500000</td>\n",
       "    </tr>\n",
       "    <tr>\n",
       "      <th>max</th>\n",
       "      <td>419.000000</td>\n",
       "      <td>420.000000</td>\n",
       "      <td>17.840000</td>\n",
       "      <td>422.000000</td>\n",
       "      <td>12.000000</td>\n",
       "      <td>117.070000</td>\n",
       "      <td>11.640000</td>\n",
       "      <td>240.000000</td>\n",
       "      <td>11.030000</td>\n",
       "      <td>175.000000</td>\n",
       "      <td>14.090000</td>\n",
       "    </tr>\n",
       "  </tbody>\n",
       "</table>\n",
       "</div>"
      ],
      "text/plain": [
       "               id        huml        humw       ulnal       ulnaw        feml  \\\n",
       "count  420.000000  419.000000  419.000000  417.000000  418.000000  418.000000   \n",
       "mean   209.500000   64.650501    4.370573   69.115372    3.597249   36.872416   \n",
       "std    121.387808   53.834549    2.854617   58.784775    2.186747   19.979082   \n",
       "min      0.000000    9.850000    1.140000   14.090000    1.000000   11.830000   \n",
       "25%    104.750000   25.170000    2.190000   28.050000    1.870000   21.297500   \n",
       "50%    209.500000   44.180000    3.500000   43.710000    2.945000   31.130000   \n",
       "75%    314.250000   90.310000    5.810000   97.520000    4.770000   47.120000   \n",
       "max    419.000000  420.000000   17.840000  422.000000   12.000000  117.070000   \n",
       "\n",
       "             femw        tibl        tibw        tarl        tarw  \n",
       "count  419.000000  418.000000  419.000000  419.000000  419.000000  \n",
       "mean     3.220883   64.662823    3.182339   39.229976    2.930024  \n",
       "std      2.023581   37.838145    2.080827   23.184313    2.185673  \n",
       "min      0.930000    5.500000    0.870000    7.770000    0.660000  \n",
       "25%      1.715000   36.417500    1.565000   23.035000    1.425000  \n",
       "50%      2.520000   52.120000    2.490000   31.740000    2.230000  \n",
       "75%      4.135000   82.870000    4.255000   50.250000    3.500000  \n",
       "max     11.640000  240.000000   11.030000  175.000000   14.090000  "
      ]
     },
     "execution_count": 22,
     "metadata": {},
     "output_type": "execute_result"
    }
   ],
   "source": [
    "print(\"Les statistiques du dataframe avant le pré traitement sont :\\n\")\n",
    "data.describe()"
   ]
  },
  {
   "cell_type": "code",
   "execution_count": 24,
   "id": "f3535732-e42e-49a8-927a-5f8bec82d3e5",
   "metadata": {},
   "outputs": [
    {
     "data": {
      "text/plain": [
       "float64    10\n",
       "int64       1\n",
       "object      1\n",
       "Name: count, dtype: int64"
      ]
     },
     "execution_count": 24,
     "metadata": {},
     "output_type": "execute_result"
    }
   ],
   "source": [
    "data.dtypes.value_counts()"
   ]
  },
  {
   "cell_type": "code",
   "execution_count": 27,
   "id": "f49a4e49-1967-4999-ab9b-a9e43ae400a0",
   "metadata": {},
   "outputs": [],
   "source": [
    "counts_by_class = data[\"type\"].value_counts()"
   ]
  },
  {
   "cell_type": "code",
   "execution_count": 34,
   "id": "b53a1e77-857d-419a-906b-c333e1f6f18f",
   "metadata": {},
   "outputs": [
    {
     "data": {
      "text/plain": [
       "[]"
      ]
     },
     "execution_count": 34,
     "metadata": {},
     "output_type": "execute_result"
    },
    {
     "data": {
      "image/png": "[encoded data removed]",
      "text/plain": [
       "<Figure size 640x480 with 1 Axes>"
      ]
     },
     "metadata": {},
     "output_type": "display_data"
    }
   ],
   "source": [
    "counts_by_class.plot(kind='bar')\n",
    "plt.plot()"
   ]
  },
  {
   "cell_type": "code",
   "execution_count": 40,
   "id": "a6a386cf-fdb6-4c5d-82ae-f1352901392a",
   "metadata": {},
   "outputs": [
    {
     "data": {
      "text/plain": [
       "0"
      ]
     },
     "execution_count": 40,
     "metadata": {},
     "output_type": "execute_result"
    }
   ],
   "source": [
    "data.duplicated().sum()\n",
    "data.drop(\"id\",axis=1).duplicated().sum()"
   ]
  },
  {
   "cell_type": "code",
   "execution_count": 44,
   "id": "51ced5ed-cc0d-43c9-8bdd-fb01acd9eb6f",
   "metadata": {},
   "outputs": [
    {
     "data": {
      "text/plain": [
       "15"
      ]
     },
     "execution_count": 44,
     "metadata": {},
     "output_type": "execute_result"
    }
   ],
   "source": [
    "data.isna().sum().sum()"
   ]
  },
  {
   "cell_type": "code",
   "execution_count": 43,
   "id": "bd02f83e-22a7-44d2-9a89-2060cfeb94e4",
   "metadata": {},
   "outputs": [
    {
     "data": {
      "text/plain": [
       "id       0\n",
       "huml     1\n",
       "humw     1\n",
       "ulnal    3\n",
       "ulnaw    2\n",
       "feml     2\n",
       "femw     1\n",
       "tibl     2\n",
       "tibw     1\n",
       "tarl     1\n",
       "tarw     1\n",
       "type     0\n",
       "dtype: int64"
      ]
     },
     "execution_count": 43,
     "metadata": {},
     "output_type": "execute_result"
    }
   ],
   "source": [
    "data.isna().sum()"
   ]
  },
  {
   "cell_type": "markdown",
   "id": "ecb8a6f2-2884-47d7-8ab8-be327d6c875e",
   "metadata": {},
   "source": [
    "## Prétraitement des données "
   ]
  },
  {
   "cell_type": "code",
   "execution_count": 49,
   "id": "f0582c0e-73df-417e-a23f-9b2190205dbc",
   "metadata": {},
   "outputs": [],
   "source": [
    "data.drop(\"id\", axis=1, inplace=True)"
   ]
  },
  {
   "cell_type": "code",
   "execution_count": 54,
   "id": "f392d9a5-6ab0-4548-9333-b46bc11d9642",
   "metadata": {},
   "outputs": [],
   "source": [
    "numeric_columns = data.select_dtypes(exclude = \"object\").columns\n",
    "data[numeric_columns] = data[numeric_columns].fillna(data[numeric_columns].mean())"
   ]
  },
  {
   "cell_type": "code",
   "execution_count": 55,
   "id": "22ff2084-639d-4859-a537-14639f4ff2a6",
   "metadata": {},
   "outputs": [
    {
     "data": {
      "text/plain": [
       "0"
      ]
     },
     "execution_count": 55,
     "metadata": {},
     "output_type": "execute_result"
    }
   ],
   "source": [
    "data.isna().sum().sum()"
   ]
  },
  {
   "cell_type": "code",
   "execution_count": 60,
   "id": "685e0671-bfa4-4b10-9c09-bb415dbd920f",
   "metadata": {},
   "outputs": [],
   "source": [
    "scaler = StandardScaler()\n",
    "data[numeric_columns] = scaler.fit_transform(data[numeric_columns])"
   ]
  },
  {
   "cell_type": "code",
   "execution_count": 61,
   "id": "b60f602b-33a1-4504-96f4-b62eaae537fd",
   "metadata": {},
   "outputs": [
    {
     "data": {
      "text/html": [
       "<div>\n",
       "<style scoped>\n",
       "    .dataframe tbody tr th:only-of-type {\n",
       "        vertical-align: middle;\n",
       "    }\n",
       "\n",
       "    .dataframe tbody tr th {\n",
       "        vertical-align: top;\n",
       "    }\n",
       "\n",
       "    .dataframe thead th {\n",
       "        text-align: right;\n",
       "    }\n",
       "</style>\n",
       "<table border=\"1\" class=\"dataframe\">\n",
       "  <thead>\n",
       "    <tr style=\"text-align: right;\">\n",
       "      <th></th>\n",
       "      <th>huml</th>\n",
       "      <th>humw</th>\n",
       "      <th>ulnal</th>\n",
       "      <th>ulnaw</th>\n",
       "      <th>feml</th>\n",
       "      <th>femw</th>\n",
       "      <th>tibl</th>\n",
       "      <th>tibw</th>\n",
       "      <th>tarl</th>\n",
       "      <th>tarw</th>\n",
       "      <th>type</th>\n",
       "    </tr>\n",
       "  </thead>\n",
       "  <tbody>\n",
       "    <tr>\n",
       "      <th>0</th>\n",
       "      <td>0.300328</td>\n",
       "      <td>0.810948</td>\n",
       "      <td>0.049477</td>\n",
       "      <td>0.588709</td>\n",
       "      <td>0.248025</td>\n",
       "      <td>0.237333</td>\n",
       "      <td>-1.569191</td>\n",
       "      <td>0.408341</td>\n",
       "      <td>-0.022914</td>\n",
       "      <td>0.417332</td>\n",
       "      <td>SW</td>\n",
       "    </tr>\n",
       "    <tr>\n",
       "      <th>1</th>\n",
       "      <td>0.451707</td>\n",
       "      <td>0.793391</td>\n",
       "      <td>0.195108</td>\n",
       "      <td>0.914558</td>\n",
       "      <td>0.510739</td>\n",
       "      <td>0.534545</td>\n",
       "      <td>0.412627</td>\n",
       "      <td>0.639569</td>\n",
       "      <td>0.098146</td>\n",
       "      <td>0.495297</td>\n",
       "      <td>SW</td>\n",
       "    </tr>\n",
       "    <tr>\n",
       "      <th>2</th>\n",
       "      <td>0.285246</td>\n",
       "      <td>0.702092</td>\n",
       "      <td>0.002472</td>\n",
       "      <td>0.772286</td>\n",
       "      <td>0.311317</td>\n",
       "      <td>0.336403</td>\n",
       "      <td>0.283459</td>\n",
       "      <td>0.413158</td>\n",
       "      <td>-0.039776</td>\n",
       "      <td>0.188023</td>\n",
       "      <td>SW</td>\n",
       "    </tr>\n",
       "    <tr>\n",
       "      <th>3</th>\n",
       "      <td>0.242048</td>\n",
       "      <td>0.466824</td>\n",
       "      <td>-0.057353</td>\n",
       "      <td>0.538225</td>\n",
       "      <td>0.159114</td>\n",
       "      <td>0.148169</td>\n",
       "      <td>0.119545</td>\n",
       "      <td>0.104853</td>\n",
       "      <td>-0.149162</td>\n",
       "      <td>0.220126</td>\n",
       "      <td>SW</td>\n",
       "    </tr>\n",
       "    <tr>\n",
       "      <th>4</th>\n",
       "      <td>-0.034456</td>\n",
       "      <td>0.164838</td>\n",
       "      <td>-0.291011</td>\n",
       "      <td>0.060925</td>\n",
       "      <td>-0.146799</td>\n",
       "      <td>-0.248115</td>\n",
       "      <td>-0.222605</td>\n",
       "      <td>-0.107107</td>\n",
       "      <td>-0.317781</td>\n",
       "      <td>0.091713</td>\n",
       "      <td>SW</td>\n",
       "    </tr>\n",
       "    <tr>\n",
       "      <th>...</th>\n",
       "      <td>...</td>\n",
       "      <td>...</td>\n",
       "      <td>...</td>\n",
       "      <td>...</td>\n",
       "      <td>...</td>\n",
       "      <td>...</td>\n",
       "      <td>...</td>\n",
       "      <td>...</td>\n",
       "      <td>...</td>\n",
       "      <td>...</td>\n",
       "      <td>...</td>\n",
       "    </tr>\n",
       "    <tr>\n",
       "      <th>415</th>\n",
       "      <td>-0.869369</td>\n",
       "      <td>-0.962343</td>\n",
       "      <td>-0.852339</td>\n",
       "      <td>-1.040536</td>\n",
       "      <td>-0.929917</td>\n",
       "      <td>-0.832632</td>\n",
       "      <td>-0.886217</td>\n",
       "      <td>-0.892321</td>\n",
       "      <td>-0.745382</td>\n",
       "      <td>-0.816351</td>\n",
       "      <td>SO</td>\n",
       "    </tr>\n",
       "    <tr>\n",
       "      <th>416</th>\n",
       "      <td>-0.846094</td>\n",
       "      <td>-0.958832</td>\n",
       "      <td>-0.826529</td>\n",
       "      <td>-0.967105</td>\n",
       "      <td>-0.885713</td>\n",
       "      <td>-0.877214</td>\n",
       "      <td>-0.834231</td>\n",
       "      <td>-0.916407</td>\n",
       "      <td>-0.675773</td>\n",
       "      <td>-0.816351</td>\n",
       "      <td>SO</td>\n",
       "    </tr>\n",
       "    <tr>\n",
       "      <th>417</th>\n",
       "      <td>-0.853914</td>\n",
       "      <td>-0.962343</td>\n",
       "      <td>-0.842425</td>\n",
       "      <td>-0.948748</td>\n",
       "      <td>-0.799314</td>\n",
       "      <td>-0.887121</td>\n",
       "      <td>-0.801342</td>\n",
       "      <td>-0.853782</td>\n",
       "      <td>-0.707767</td>\n",
       "      <td>-0.788834</td>\n",
       "      <td>SO</td>\n",
       "    </tr>\n",
       "    <tr>\n",
       "      <th>418</th>\n",
       "      <td>-0.824309</td>\n",
       "      <td>-0.909671</td>\n",
       "      <td>-0.796274</td>\n",
       "      <td>-0.962516</td>\n",
       "      <td>-0.779723</td>\n",
       "      <td>-0.862354</td>\n",
       "      <td>-0.757844</td>\n",
       "      <td>-0.795975</td>\n",
       "      <td>-0.572872</td>\n",
       "      <td>-0.775076</td>\n",
       "      <td>SO</td>\n",
       "    </tr>\n",
       "    <tr>\n",
       "      <th>419</th>\n",
       "      <td>-0.870672</td>\n",
       "      <td>-1.029061</td>\n",
       "      <td>-0.852168</td>\n",
       "      <td>-1.146093</td>\n",
       "      <td>-0.967089</td>\n",
       "      <td>-0.931703</td>\n",
       "      <td>-0.924410</td>\n",
       "      <td>-0.935676</td>\n",
       "      <td>-0.758353</td>\n",
       "      <td>-0.862213</td>\n",
       "      <td>SO</td>\n",
       "    </tr>\n",
       "  </tbody>\n",
       "</table>\n",
       "<p>420 rows × 11 columns</p>\n",
       "</div>"
      ],
      "text/plain": [
       "         huml      humw     ulnal     ulnaw      feml      femw      tibl  \\\n",
       "0    0.300328  0.810948  0.049477  0.588709  0.248025  0.237333 -1.569191   \n",
       "1    0.451707  0.793391  0.195108  0.914558  0.510739  0.534545  0.412627   \n",
       "2    0.285246  0.702092  0.002472  0.772286  0.311317  0.336403  0.283459   \n",
       "3    0.242048  0.466824 -0.057353  0.538225  0.159114  0.148169  0.119545   \n",
       "4   -0.034456  0.164838 -0.291011  0.060925 -0.146799 -0.248115 -0.222605   \n",
       "..        ...       ...       ...       ...       ...       ...       ...   \n",
       "415 -0.869369 -0.962343 -0.852339 -1.040536 -0.929917 -0.832632 -0.886217   \n",
       "416 -0.846094 -0.958832 -0.826529 -0.967105 -0.885713 -0.877214 -0.834231   \n",
       "417 -0.853914 -0.962343 -0.842425 -0.948748 -0.799314 -0.887121 -0.801342   \n",
       "418 -0.824309 -0.909671 -0.796274 -0.962516 -0.779723 -0.862354 -0.757844   \n",
       "419 -0.870672 -1.029061 -0.852168 -1.146093 -0.967089 -0.931703 -0.924410   \n",
       "\n",
       "         tibw      tarl      tarw type  \n",
       "0    0.408341 -0.022914  0.417332   SW  \n",
       "1    0.639569  0.098146  0.495297   SW  \n",
       "2    0.413158 -0.039776  0.188023   SW  \n",
       "3    0.104853 -0.149162  0.220126   SW  \n",
       "4   -0.107107 -0.317781  0.091713   SW  \n",
       "..        ...       ...       ...  ...  \n",
       "415 -0.892321 -0.745382 -0.816351   SO  \n",
       "416 -0.916407 -0.675773 -0.816351   SO  \n",
       "417 -0.853782 -0.707767 -0.788834   SO  \n",
       "418 -0.795975 -0.572872 -0.775076   SO  \n",
       "419 -0.935676 -0.758353 -0.862213   SO  \n",
       "\n",
       "[420 rows x 11 columns]"
      ]
     },
     "execution_count": 61,
     "metadata": {},
     "output_type": "execute_result"
    }
   ],
   "source": [
    "data"
   ]
  },
  {
   "cell_type": "code",
   "execution_count": 68,
   "id": "35ef10ef-172c-426d-9037-b5947699a7b0",
   "metadata": {},
   "outputs": [],
   "source": [
    "encoder = LabelEncoder()\n",
    "data[\"type\"] = encoder.fit_transform(data[\"type\"])"
   ]
  },
  {
   "cell_type": "code",
   "execution_count": 70,
   "id": "9e5dc897-f542-4d7c-97d2-474c5f62547c",
   "metadata": {},
   "outputs": [
    {
     "data": {
      "text/plain": [
       "0      3\n",
       "1      3\n",
       "2      3\n",
       "3      3\n",
       "4      3\n",
       "      ..\n",
       "415    2\n",
       "416    2\n",
       "417    2\n",
       "418    2\n",
       "419    2\n",
       "Name: type, Length: 420, dtype: int32"
      ]
     },
     "execution_count": 70,
     "metadata": {},
     "output_type": "execute_result"
    }
   ],
   "source": [
    "data[\"type\"]"
   ]
  },
  {
   "cell_type": "code",
   "execution_count": 73,
   "id": "78abee3f-34e6-472b-8345-30964054c533",
   "metadata": {},
   "outputs": [],
   "source": [
    "correlation = data.corr()"
   ]
  },
  {
   "cell_type": "code",
   "execution_count": 93,
   "id": "d6de6024-73e4-45d3-a4f5-9e2333d2d0dd",
   "metadata": {},
   "outputs": [
    {
     "data": {
      "image/png": "[encoded data removed]",
      "text/plain": [
       "<Figure size 640x480 with 2 Axes>"
      ]
     },
     "metadata": {},
     "output_type": "display_data"
    }
   ],
   "source": [
    "sns.heatmap(correlation, annot=True,  cmap=\"crest\")\n",
    "plt.plot()\n",
    "plt.show()"
   ]
  },
  {
   "cell_type": "code",
   "execution_count": 84,
   "id": "feb40313-72bf-47e0-8b71-efea15a89e92",
   "metadata": {},
   "outputs": [],
   "source": [
    "pca = PCA(n_components=10)\n",
    "pca.fit(data[numeric_columns])"
   ]
  },
  {
   "cell_type": "code",
   "execution_count": 105,
   "id": "1883de1a-8187-42d8-bda9-53b276bb5b8d",
   "metadata": {},
   "outputs": [],
   "source": [
    "pca_ratio = pd.Series(pca.explained_variance_ratio_)"
   ]
  },
  {
   "cell_type": "code",
   "execution_count": 120,
   "id": "2adfb3ea-5850-4d0c-b17e-d6aab70a8374",
   "metadata": {},
   "outputs": [
    {
     "data": {
      "image/png": "[encoded data removed]",
      "text/plain": [
       "<Figure size 640x480 with 1 Axes>"
      ]
     },
     "metadata": {},
     "output_type": "display_data"
    }
   ],
   "source": [
    "mylabels = [str(j+1)+\"PC\" for j in range(10)]\n",
    "pca_ratio.plot(kind = 'bar')\n",
    "plt.xticks(np.arange(10), mylabels)\n",
    "plt.title(\"Variance expliquée des composantes principales\")\n",
    "plt.ylabel(\"Variance\")\n",
    "plt.xlabel(\"Composantes principales\")\n",
    "plt.show()"
   ]
  },
  {
   "cell_type": "code",
   "execution_count": 124,
   "id": "f7d8fb5c-cb78-4e6c-9416-0000dbecf1c6",
   "metadata": {},
   "outputs": [],
   "source": [
    "X_PCA = pca.transform(data[numeric_columns])"
   ]
  },
  {
   "cell_type": "code",
   "execution_count": 127,
   "id": "80668080-fbfe-41d5-a2b3-1298d4de8d1c",
   "metadata": {},
   "outputs": [],
   "source": [
    "X_PCA_df = pd.DataFrame(X_PCA, columns=mylabels)"
   ]
  },
  {
   "cell_type": "code",
   "execution_count": 143,
   "id": "6ed295d6-046a-48dc-be84-2a69982aa32f",
   "metadata": {},
   "outputs": [],
   "source": [
    "X_3PC_df = X_PCA_df[X_PCA_df.columns[0:3]].copy()"
   ]
  },
  {
   "cell_type": "code",
   "execution_count": 144,
   "id": "b26a9919-a250-461a-801d-26ded5ce877e",
   "metadata": {},
   "outputs": [],
   "source": [
    "X_3PC_df[\"type\"] = data.filter([\"type\"], axis=1)"
   ]
  },
  {
   "cell_type": "code",
   "execution_count": 145,
   "id": "72cac059-a277-48c6-9f03-55a8aeb744fd",
   "metadata": {},
   "outputs": [
    {
     "data": {
      "text/html": [
       "<div>\n",
       "<style scoped>\n",
       "    .dataframe tbody tr th:only-of-type {\n",
       "        vertical-align: middle;\n",
       "    }\n",
       "\n",
       "    .dataframe tbody tr th {\n",
       "        vertical-align: top;\n",
       "    }\n",
       "\n",
       "    .dataframe thead th {\n",
       "        text-align: right;\n",
       "    }\n",
       "</style>\n",
       "<table border=\"1\" class=\"dataframe\">\n",
       "  <thead>\n",
       "    <tr style=\"text-align: right;\">\n",
       "      <th></th>\n",
       "      <th>1PC</th>\n",
       "      <th>2PC</th>\n",
       "      <th>3PC</th>\n",
       "      <th>type</th>\n",
       "    </tr>\n",
       "  </thead>\n",
       "  <tbody>\n",
       "    <tr>\n",
       "      <th>0</th>\n",
       "      <td>0.485963</td>\n",
       "      <td>-1.089063</td>\n",
       "      <td>0.549909</td>\n",
       "      <td>3</td>\n",
       "    </tr>\n",
       "    <tr>\n",
       "      <th>1</th>\n",
       "      <td>1.618669</td>\n",
       "      <td>-0.342531</td>\n",
       "      <td>0.291105</td>\n",
       "      <td>3</td>\n",
       "    </tr>\n",
       "    <tr>\n",
       "      <th>2</th>\n",
       "      <td>1.053216</td>\n",
       "      <td>-0.324057</td>\n",
       "      <td>0.200506</td>\n",
       "      <td>3</td>\n",
       "    </tr>\n",
       "    <tr>\n",
       "      <th>3</th>\n",
       "      <td>0.582741</td>\n",
       "      <td>-0.376715</td>\n",
       "      <td>0.182824</td>\n",
       "      <td>3</td>\n",
       "    </tr>\n",
       "    <tr>\n",
       "      <th>4</th>\n",
       "      <td>-0.323288</td>\n",
       "      <td>-0.324270</td>\n",
       "      <td>0.203155</td>\n",
       "      <td>3</td>\n",
       "    </tr>\n",
       "    <tr>\n",
       "      <th>...</th>\n",
       "      <td>...</td>\n",
       "      <td>...</td>\n",
       "      <td>...</td>\n",
       "      <td>...</td>\n",
       "    </tr>\n",
       "    <tr>\n",
       "      <th>415</th>\n",
       "      <td>-2.795450</td>\n",
       "      <td>0.063024</td>\n",
       "      <td>0.004148</td>\n",
       "      <td>2</td>\n",
       "    </tr>\n",
       "    <tr>\n",
       "      <th>416</th>\n",
       "      <td>-2.728194</td>\n",
       "      <td>0.098031</td>\n",
       "      <td>-0.034116</td>\n",
       "      <td>2</td>\n",
       "    </tr>\n",
       "    <tr>\n",
       "      <th>417</th>\n",
       "      <td>-2.676074</td>\n",
       "      <td>0.110993</td>\n",
       "      <td>0.024084</td>\n",
       "      <td>2</td>\n",
       "    </tr>\n",
       "    <tr>\n",
       "      <th>418</th>\n",
       "      <td>-2.550062</td>\n",
       "      <td>0.194983</td>\n",
       "      <td>-0.019190</td>\n",
       "      <td>2</td>\n",
       "    </tr>\n",
       "    <tr>\n",
       "      <th>419</th>\n",
       "      <td>-2.940420</td>\n",
       "      <td>0.085462</td>\n",
       "      <td>-0.057365</td>\n",
       "      <td>2</td>\n",
       "    </tr>\n",
       "  </tbody>\n",
       "</table>\n",
       "<p>420 rows × 4 columns</p>\n",
       "</div>"
      ],
      "text/plain": [
       "          1PC       2PC       3PC  type\n",
       "0    0.485963 -1.089063  0.549909     3\n",
       "1    1.618669 -0.342531  0.291105     3\n",
       "2    1.053216 -0.324057  0.200506     3\n",
       "3    0.582741 -0.376715  0.182824     3\n",
       "4   -0.323288 -0.324270  0.203155     3\n",
       "..        ...       ...       ...   ...\n",
       "415 -2.795450  0.063024  0.004148     2\n",
       "416 -2.728194  0.098031 -0.034116     2\n",
       "417 -2.676074  0.110993  0.024084     2\n",
       "418 -2.550062  0.194983 -0.019190     2\n",
       "419 -2.940420  0.085462 -0.057365     2\n",
       "\n",
       "[420 rows x 4 columns]"
      ]
     },
     "execution_count": 145,
     "metadata": {},
     "output_type": "execute_result"
    }
   ],
   "source": [
    "X_3PC_df"
   ]
  },
  {
   "cell_type": "markdown",
   "id": "c0eab3e8-4fe2-457f-8bdc-955251f52218",
   "metadata": {},
   "source": [
    "## Classification des données"
   ]
  },
  {
   "cell_type": "code",
   "execution_count": 167,
   "id": "4a555fc5-841b-4b58-8891-f235365b1050",
   "metadata": {},
   "outputs": [],
   "source": [
    "X = data[numeric_columns]\n",
    "y = data[\"type\"]\n",
    "X_train, X_test, y_train, y_test = train_test_split(X, y, test_size=0.20, random_state=42)"
   ]
  },
  {
   "cell_type": "code",
   "execution_count": 170,
   "id": "19d4195f-aba3-4492-84ab-7ee15f09fcfc",
   "metadata": {},
   "outputs": [
    {
     "data": {
      "text/plain": [
       "0.8452380952380952"
      ]
     },
     "execution_count": 170,
     "metadata": {},
     "output_type": "execute_result"
    }
   ],
   "source": [
    "neigh = KNeighborsClassifier(n_neighbors=1)\n",
    "neigh.fit(X_train, y_train)\n",
    "y_pred = neigh.predict(X_test)\n",
    "accuracy_score(y_test,y_pred)"
   ]
  },
  {
   "cell_type": "code",
   "execution_count": 168,
   "id": "f371c89b-f9eb-4abb-b4e4-b454f97258cd",
   "metadata": {},
   "outputs": [],
   "source": [
    "parameters = {'n_neighbors':np.arange(1,11)}\n",
    "knn = KNeighborsClassifier()\n",
    "knn_gs = GridSearchCV(knn, parameters, scoring=\"accuracy\")"
   ]
  },
  {
   "cell_type": "code",
   "execution_count": 169,
   "id": "34231cbe-01a2-4fa2-845f-78ecabf30595",
   "metadata": {},
   "outputs": [
    {
     "data": {
      "text/plain": [
       "{'n_neighbors': 1}"
      ]
     },
     "execution_count": 169,
     "metadata": {},
     "output_type": "execute_result"
    }
   ],
   "source": [
    "knn_gs.fit(X_train, y_train)\n",
    "knn_gs.best_params_"
   ]
  },
  {
   "cell_type": "code",
   "execution_count": 188,
   "id": "78ec852d-f26b-45e3-8caa-ad733364b45e",
   "metadata": {},
   "outputs": [
    {
     "data": {
      "text/plain": [
       "0.8690476190476191"
      ]
     },
     "execution_count": 188,
     "metadata": {},
     "output_type": "execute_result"
    }
   ],
   "source": [
    "lr = LogisticRegression(random_state=42, C=10)\n",
    "lr.fit(X_train, y_train)\n",
    "y_pred = lr.predict(X_test)\n",
    "accuracy_score(y_test,y_pred)"
   ]
  },
  {
   "cell_type": "code",
   "execution_count": 184,
   "id": "15341a6f-6400-4bdc-9d66-73fef379ebd2",
   "metadata": {},
   "outputs": [
    {
     "data": {
      "text/plain": [
       "array([1.00000000e-03, 2.78255940e-03, 7.74263683e-03, 2.15443469e-02,\n",
       "       5.99484250e-02, 1.66810054e-01, 4.64158883e-01, 1.29154967e+00,\n",
       "       3.59381366e+00, 1.00000000e+01])"
      ]
     },
     "execution_count": 184,
     "metadata": {},
     "output_type": "execute_result"
    }
   ],
   "source": [
    "np.logspace(-3, 1, 10)"
   ]
  },
  {
   "cell_type": "code",
   "execution_count": 186,
   "id": "aba72960-41a5-4c66-b9a2-73116b70571c",
   "metadata": {},
   "outputs": [],
   "source": [
    "parameters = {'penalty':['l1', 'l2'], 'C':np.logspace(-3, 1, 10)}\n",
    "lr_gs = GridSearchCV(lr, parameters, scoring=\"accuracy\")"
   ]
  },
  {
   "cell_type": "code",
   "execution_count": 187,
   "id": "9b356101-71bc-45bd-b6ba-4f28e97eb470",
   "metadata": {},
   "outputs": [
    {
     "name": "stderr",
     "output_type": "stream",
     "text": [
      "C:\\Users\\amyli\\AppData\\Local\\Programs\\Python\\Python311\\Lib\\site-packages\\sklearn\\model_selection\\_validation.py:542: FitFailedWarning:\n",
      "\n",
      "\n",
      "50 fits failed out of a total of 100.\n",
      "The score on these train-test partitions for these parameters will be set to nan.\n",
      "If these failures are not expected, you can try to debug them by setting error_score='raise'.\n",
      "\n",
      "Below are more details about the failures:\n",
      "--------------------------------------------------------------------------------\n",
      "50 fits failed with the following error:\n",
      "Traceback (most recent call last):\n",
      "  File \"C:\\Users\\amyli\\AppData\\Local\\Programs\\Python\\Python311\\Lib\\site-packages\\sklearn\\model_selection\\_validation.py\", line 890, in _fit_and_score\n",
      "    estimator.fit(X_train, y_train, **fit_params)\n",
      "  File \"C:\\Users\\amyli\\AppData\\Local\\Programs\\Python\\Python311\\Lib\\site-packages\\sklearn\\base.py\", line 1351, in wrapper\n",
      "    return fit_method(estimator, *args, **kwargs)\n",
      "           ^^^^^^^^^^^^^^^^^^^^^^^^^^^^^^^^^^^^^^\n",
      "  File \"C:\\Users\\amyli\\AppData\\Local\\Programs\\Python\\Python311\\Lib\\site-packages\\sklearn\\linear_model\\_logistic.py\", line 1172, in fit\n",
      "    solver = _check_solver(self.solver, self.penalty, self.dual)\n",
      "             ^^^^^^^^^^^^^^^^^^^^^^^^^^^^^^^^^^^^^^^^^^^^^^^^^^^\n",
      "  File \"C:\\Users\\amyli\\AppData\\Local\\Programs\\Python\\Python311\\Lib\\site-packages\\sklearn\\linear_model\\_logistic.py\", line 67, in _check_solver\n",
      "    raise ValueError(\n",
      "ValueError: Solver lbfgs supports only 'l2' or None penalties, got l1 penalty.\n",
      "\n",
      "\n",
      "C:\\Users\\amyli\\AppData\\Local\\Programs\\Python\\Python311\\Lib\\site-packages\\sklearn\\model_selection\\_search.py:1051: UserWarning:\n",
      "\n",
      "One or more of the test scores are non-finite: [       nan 0.45544337        nan 0.48516242        nan 0.50597015\n",
      "        nan 0.59223003        nan 0.61005268        nan 0.6428007\n",
      "        nan 0.67840211        nan 0.73494293        nan 0.76466198\n",
      "        nan 0.80039508]\n",
      "\n"
     ]
    },
    {
     "data": {
      "text/plain": [
       "{'C': 10.0, 'penalty': 'l2'}"
      ]
     },
     "execution_count": 187,
     "metadata": {},
     "output_type": "execute_result"
    }
   ],
   "source": [
    "lr_gs.fit(X_train, y_train)\n",
    "lr_gs.best_params_"
   ]
  }
 ],
 "metadata": {
  "kernelspec": {
   "display_name": "Python 3 (ipykernel)",
   "language": "python",
   "name": "python3"
  },
  "language_info": {
   "codemirror_mode": {
    "name": "ipython",
    "version": 3
   },
   "file_extension": ".py",
   "mimetype": "text/x-python",
   "name": "python",
   "nbconvert_exporter": "python",
   "pygments_lexer": "ipython3",
   "version": "3.11.6"
  }
 },
 "nbformat": 4,
 "nbformat_minor": 5
}
