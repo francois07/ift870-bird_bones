{
 "cells": [
  {
   "cell_type": "markdown",
   "id": "98d90357-1100-4510-83b2-69d471b5e91b",
   "metadata": {},
   "source": [
    "# Importation des données et des bibliothèques"
   ]
  },
  {
   "cell_type": "code",
   "execution_count": 1,
   "id": "27d32032-beaf-4172-967b-7415c07d2531",
   "metadata": {},
   "outputs": [],
   "source": [
    "import numpy as np\n",
    "import pandas as pd\n",
    "import matplotlib.pyplot as plt\n",
    "from sklearn.preprocessing import StandardScaler, LabelEncoder\n",
    "import seaborn as sns\n",
    "from sklearn.decomposition import PCA\n",
    "import plotly.express as px\n",
    "from sklearn.model_selection import train_test_split\n",
    "from sklearn.neighbors import KNeighborsClassifier, NearestCentroid\n",
    "from sklearn.metrics import accuracy_score\n",
    "from sklearn.model_selection import GridSearchCV\n",
    "from sklearn.linear_model import LogisticRegression"
   ]
  },
  {
   "cell_type": "code",
   "execution_count": 2,
   "id": "b753d52a-598b-4716-b7fd-b8d8c541cb64",
   "metadata": {},
   "outputs": [
    {
     "data": {
      "text/html": [
       "<div>\n",
       "<style scoped>\n",
       "    .dataframe tbody tr th:only-of-type {\n",
       "        vertical-align: middle;\n",
       "    }\n",
       "\n",
       "    .dataframe tbody tr th {\n",
       "        vertical-align: top;\n",
       "    }\n",
       "\n",
       "    .dataframe thead th {\n",
       "        text-align: right;\n",
       "    }\n",
       "</style>\n",
       "<table border=\"1\" class=\"dataframe\">\n",
       "  <thead>\n",
       "    <tr style=\"text-align: right;\">\n",
       "      <th></th>\n",
       "      <th>id</th>\n",
       "      <th>huml</th>\n",
       "      <th>humw</th>\n",
       "      <th>ulnal</th>\n",
       "      <th>ulnaw</th>\n",
       "      <th>feml</th>\n",
       "      <th>femw</th>\n",
       "      <th>tibl</th>\n",
       "      <th>tibw</th>\n",
       "      <th>tarl</th>\n",
       "      <th>tarw</th>\n",
       "      <th>type</th>\n",
       "    </tr>\n",
       "  </thead>\n",
       "  <tbody>\n",
       "    <tr>\n",
       "      <th>0</th>\n",
       "      <td>0</td>\n",
       "      <td>80.78</td>\n",
       "      <td>6.68</td>\n",
       "      <td>72.01</td>\n",
       "      <td>4.88</td>\n",
       "      <td>41.81</td>\n",
       "      <td>3.70</td>\n",
       "      <td>5.50</td>\n",
       "      <td>4.03</td>\n",
       "      <td>38.70</td>\n",
       "      <td>3.84</td>\n",
       "      <td>SW</td>\n",
       "    </tr>\n",
       "    <tr>\n",
       "      <th>1</th>\n",
       "      <td>1</td>\n",
       "      <td>88.91</td>\n",
       "      <td>6.63</td>\n",
       "      <td>80.53</td>\n",
       "      <td>5.59</td>\n",
       "      <td>47.04</td>\n",
       "      <td>4.30</td>\n",
       "      <td>80.22</td>\n",
       "      <td>4.51</td>\n",
       "      <td>41.50</td>\n",
       "      <td>4.01</td>\n",
       "      <td>SW</td>\n",
       "    </tr>\n",
       "    <tr>\n",
       "      <th>2</th>\n",
       "      <td>2</td>\n",
       "      <td>79.97</td>\n",
       "      <td>6.37</td>\n",
       "      <td>69.26</td>\n",
       "      <td>5.28</td>\n",
       "      <td>43.07</td>\n",
       "      <td>3.90</td>\n",
       "      <td>75.35</td>\n",
       "      <td>4.04</td>\n",
       "      <td>38.31</td>\n",
       "      <td>3.34</td>\n",
       "      <td>SW</td>\n",
       "    </tr>\n",
       "    <tr>\n",
       "      <th>3</th>\n",
       "      <td>3</td>\n",
       "      <td>77.65</td>\n",
       "      <td>5.70</td>\n",
       "      <td>65.76</td>\n",
       "      <td>4.77</td>\n",
       "      <td>40.04</td>\n",
       "      <td>3.52</td>\n",
       "      <td>69.17</td>\n",
       "      <td>3.40</td>\n",
       "      <td>35.78</td>\n",
       "      <td>3.41</td>\n",
       "      <td>SW</td>\n",
       "    </tr>\n",
       "    <tr>\n",
       "      <th>4</th>\n",
       "      <td>4</td>\n",
       "      <td>62.80</td>\n",
       "      <td>4.84</td>\n",
       "      <td>52.09</td>\n",
       "      <td>3.73</td>\n",
       "      <td>33.95</td>\n",
       "      <td>2.72</td>\n",
       "      <td>56.27</td>\n",
       "      <td>2.96</td>\n",
       "      <td>31.88</td>\n",
       "      <td>3.13</td>\n",
       "      <td>SW</td>\n",
       "    </tr>\n",
       "    <tr>\n",
       "      <th>...</th>\n",
       "      <td>...</td>\n",
       "      <td>...</td>\n",
       "      <td>...</td>\n",
       "      <td>...</td>\n",
       "      <td>...</td>\n",
       "      <td>...</td>\n",
       "      <td>...</td>\n",
       "      <td>...</td>\n",
       "      <td>...</td>\n",
       "      <td>...</td>\n",
       "      <td>...</td>\n",
       "      <td>...</td>\n",
       "    </tr>\n",
       "    <tr>\n",
       "      <th>415</th>\n",
       "      <td>415</td>\n",
       "      <td>17.96</td>\n",
       "      <td>1.63</td>\n",
       "      <td>19.25</td>\n",
       "      <td>1.33</td>\n",
       "      <td>18.36</td>\n",
       "      <td>1.54</td>\n",
       "      <td>31.25</td>\n",
       "      <td>1.33</td>\n",
       "      <td>21.99</td>\n",
       "      <td>1.15</td>\n",
       "      <td>SO</td>\n",
       "    </tr>\n",
       "    <tr>\n",
       "      <th>416</th>\n",
       "      <td>416</td>\n",
       "      <td>19.21</td>\n",
       "      <td>1.64</td>\n",
       "      <td>20.76</td>\n",
       "      <td>1.49</td>\n",
       "      <td>19.24</td>\n",
       "      <td>1.45</td>\n",
       "      <td>33.21</td>\n",
       "      <td>1.28</td>\n",
       "      <td>23.60</td>\n",
       "      <td>1.15</td>\n",
       "      <td>SO</td>\n",
       "    </tr>\n",
       "    <tr>\n",
       "      <th>417</th>\n",
       "      <td>417</td>\n",
       "      <td>18.79</td>\n",
       "      <td>1.63</td>\n",
       "      <td>19.83</td>\n",
       "      <td>1.53</td>\n",
       "      <td>20.96</td>\n",
       "      <td>1.43</td>\n",
       "      <td>34.45</td>\n",
       "      <td>1.41</td>\n",
       "      <td>22.86</td>\n",
       "      <td>1.21</td>\n",
       "      <td>SO</td>\n",
       "    </tr>\n",
       "    <tr>\n",
       "      <th>418</th>\n",
       "      <td>418</td>\n",
       "      <td>20.38</td>\n",
       "      <td>1.78</td>\n",
       "      <td>22.53</td>\n",
       "      <td>1.50</td>\n",
       "      <td>21.35</td>\n",
       "      <td>1.48</td>\n",
       "      <td>36.09</td>\n",
       "      <td>1.53</td>\n",
       "      <td>25.98</td>\n",
       "      <td>1.24</td>\n",
       "      <td>SO</td>\n",
       "    </tr>\n",
       "    <tr>\n",
       "      <th>419</th>\n",
       "      <td>419</td>\n",
       "      <td>17.89</td>\n",
       "      <td>1.44</td>\n",
       "      <td>19.26</td>\n",
       "      <td>1.10</td>\n",
       "      <td>17.62</td>\n",
       "      <td>1.34</td>\n",
       "      <td>29.81</td>\n",
       "      <td>1.24</td>\n",
       "      <td>21.69</td>\n",
       "      <td>1.05</td>\n",
       "      <td>SO</td>\n",
       "    </tr>\n",
       "  </tbody>\n",
       "</table>\n",
       "<p>420 rows × 12 columns</p>\n",
       "</div>"
      ],
      "text/plain": [
       "      id   huml  humw  ulnal  ulnaw   feml  femw   tibl  tibw   tarl  tarw  \\\n",
       "0      0  80.78  6.68  72.01   4.88  41.81  3.70   5.50  4.03  38.70  3.84   \n",
       "1      1  88.91  6.63  80.53   5.59  47.04  4.30  80.22  4.51  41.50  4.01   \n",
       "2      2  79.97  6.37  69.26   5.28  43.07  3.90  75.35  4.04  38.31  3.34   \n",
       "3      3  77.65  5.70  65.76   4.77  40.04  3.52  69.17  3.40  35.78  3.41   \n",
       "4      4  62.80  4.84  52.09   3.73  33.95  2.72  56.27  2.96  31.88  3.13   \n",
       "..   ...    ...   ...    ...    ...    ...   ...    ...   ...    ...   ...   \n",
       "415  415  17.96  1.63  19.25   1.33  18.36  1.54  31.25  1.33  21.99  1.15   \n",
       "416  416  19.21  1.64  20.76   1.49  19.24  1.45  33.21  1.28  23.60  1.15   \n",
       "417  417  18.79  1.63  19.83   1.53  20.96  1.43  34.45  1.41  22.86  1.21   \n",
       "418  418  20.38  1.78  22.53   1.50  21.35  1.48  36.09  1.53  25.98  1.24   \n",
       "419  419  17.89  1.44  19.26   1.10  17.62  1.34  29.81  1.24  21.69  1.05   \n",
       "\n",
       "    type  \n",
       "0     SW  \n",
       "1     SW  \n",
       "2     SW  \n",
       "3     SW  \n",
       "4     SW  \n",
       "..   ...  \n",
       "415   SO  \n",
       "416   SO  \n",
       "417   SO  \n",
       "418   SO  \n",
       "419   SO  \n",
       "\n",
       "[420 rows x 12 columns]"
      ]
     },
     "execution_count": 2,
     "metadata": {},
     "output_type": "execute_result"
    }
   ],
   "source": [
    "data = pd.read_csv(\"bird.csv\")\n",
    "data"
   ]
  },
  {
   "cell_type": "markdown",
   "id": "a93e670a-9701-44cf-8443-a4b37f338d9c",
   "metadata": {},
   "source": [
    "## Analyse des données"
   ]
  },
  {
   "cell_type": "code",
   "execution_count": 3,
   "id": "0b91ac86-74c5-4ab7-92b0-70e0107881d9",
   "metadata": {},
   "outputs": [
    {
     "name": "stdout",
     "output_type": "stream",
     "text": [
      "Le nombre d'attributs dans la dataframe est : 12\n",
      "Le nombre d'observations dans la dataframe est : 420\n"
     ]
    }
   ],
   "source": [
    "print(f\"Le nombre d'attributs dans la dataframe est : {data.shape[1]}\")\n",
    "print(f\"Le nombre d'observations dans la dataframe est : {data.shape[0]}\")"
   ]
  },
  {
   "cell_type": "code",
   "execution_count": 4,
   "id": "0f40cdc3-a5fd-4fb6-898f-15d25620e7df",
   "metadata": {},
   "outputs": [
    {
     "name": "stdout",
     "output_type": "stream",
     "text": [
      "Les statistiques du dataframe avant le pré traitement sont :\n",
      "\n"
     ]
    },
    {
     "data": {
      "text/html": [
       "<div>\n",
       "<style scoped>\n",
       "    .dataframe tbody tr th:only-of-type {\n",
       "        vertical-align: middle;\n",
       "    }\n",
       "\n",
       "    .dataframe tbody tr th {\n",
       "        vertical-align: top;\n",
       "    }\n",
       "\n",
       "    .dataframe thead th {\n",
       "        text-align: right;\n",
       "    }\n",
       "</style>\n",
       "<table border=\"1\" class=\"dataframe\">\n",
       "  <thead>\n",
       "    <tr style=\"text-align: right;\">\n",
       "      <th></th>\n",
       "      <th>id</th>\n",
       "      <th>huml</th>\n",
       "      <th>humw</th>\n",
       "      <th>ulnal</th>\n",
       "      <th>ulnaw</th>\n",
       "      <th>feml</th>\n",
       "      <th>femw</th>\n",
       "      <th>tibl</th>\n",
       "      <th>tibw</th>\n",
       "      <th>tarl</th>\n",
       "      <th>tarw</th>\n",
       "    </tr>\n",
       "  </thead>\n",
       "  <tbody>\n",
       "    <tr>\n",
       "      <th>count</th>\n",
       "      <td>420.000000</td>\n",
       "      <td>419.000000</td>\n",
       "      <td>419.000000</td>\n",
       "      <td>417.000000</td>\n",
       "      <td>418.000000</td>\n",
       "      <td>418.000000</td>\n",
       "      <td>419.000000</td>\n",
       "      <td>418.000000</td>\n",
       "      <td>419.000000</td>\n",
       "      <td>419.000000</td>\n",
       "      <td>419.000000</td>\n",
       "    </tr>\n",
       "    <tr>\n",
       "      <th>mean</th>\n",
       "      <td>209.500000</td>\n",
       "      <td>64.650501</td>\n",
       "      <td>4.370573</td>\n",
       "      <td>69.115372</td>\n",
       "      <td>3.597249</td>\n",
       "      <td>36.872416</td>\n",
       "      <td>3.220883</td>\n",
       "      <td>64.662823</td>\n",
       "      <td>3.182339</td>\n",
       "      <td>39.229976</td>\n",
       "      <td>2.930024</td>\n",
       "    </tr>\n",
       "    <tr>\n",
       "      <th>std</th>\n",
       "      <td>121.387808</td>\n",
       "      <td>53.834549</td>\n",
       "      <td>2.854617</td>\n",
       "      <td>58.784775</td>\n",
       "      <td>2.186747</td>\n",
       "      <td>19.979082</td>\n",
       "      <td>2.023581</td>\n",
       "      <td>37.838145</td>\n",
       "      <td>2.080827</td>\n",
       "      <td>23.184313</td>\n",
       "      <td>2.185673</td>\n",
       "    </tr>\n",
       "    <tr>\n",
       "      <th>min</th>\n",
       "      <td>0.000000</td>\n",
       "      <td>9.850000</td>\n",
       "      <td>1.140000</td>\n",
       "      <td>14.090000</td>\n",
       "      <td>1.000000</td>\n",
       "      <td>11.830000</td>\n",
       "      <td>0.930000</td>\n",
       "      <td>5.500000</td>\n",
       "      <td>0.870000</td>\n",
       "      <td>7.770000</td>\n",
       "      <td>0.660000</td>\n",
       "    </tr>\n",
       "    <tr>\n",
       "      <th>25%</th>\n",
       "      <td>104.750000</td>\n",
       "      <td>25.170000</td>\n",
       "      <td>2.190000</td>\n",
       "      <td>28.050000</td>\n",
       "      <td>1.870000</td>\n",
       "      <td>21.297500</td>\n",
       "      <td>1.715000</td>\n",
       "      <td>36.417500</td>\n",
       "      <td>1.565000</td>\n",
       "      <td>23.035000</td>\n",
       "      <td>1.425000</td>\n",
       "    </tr>\n",
       "    <tr>\n",
       "      <th>50%</th>\n",
       "      <td>209.500000</td>\n",
       "      <td>44.180000</td>\n",
       "      <td>3.500000</td>\n",
       "      <td>43.710000</td>\n",
       "      <td>2.945000</td>\n",
       "      <td>31.130000</td>\n",
       "      <td>2.520000</td>\n",
       "      <td>52.120000</td>\n",
       "      <td>2.490000</td>\n",
       "      <td>31.740000</td>\n",
       "      <td>2.230000</td>\n",
       "    </tr>\n",
       "    <tr>\n",
       "      <th>75%</th>\n",
       "      <td>314.250000</td>\n",
       "      <td>90.310000</td>\n",
       "      <td>5.810000</td>\n",
       "      <td>97.520000</td>\n",
       "      <td>4.770000</td>\n",
       "      <td>47.120000</td>\n",
       "      <td>4.135000</td>\n",
       "      <td>82.870000</td>\n",
       "      <td>4.255000</td>\n",
       "      <td>50.250000</td>\n",
       "      <td>3.500000</td>\n",
       "    </tr>\n",
       "    <tr>\n",
       "      <th>max</th>\n",
       "      <td>419.000000</td>\n",
       "      <td>420.000000</td>\n",
       "      <td>17.840000</td>\n",
       "      <td>422.000000</td>\n",
       "      <td>12.000000</td>\n",
       "      <td>117.070000</td>\n",
       "      <td>11.640000</td>\n",
       "      <td>240.000000</td>\n",
       "      <td>11.030000</td>\n",
       "      <td>175.000000</td>\n",
       "      <td>14.090000</td>\n",
       "    </tr>\n",
       "  </tbody>\n",
       "</table>\n",
       "</div>"
      ],
      "text/plain": [
       "               id        huml        humw       ulnal       ulnaw        feml  \\\n",
       "count  420.000000  419.000000  419.000000  417.000000  418.000000  418.000000   \n",
       "mean   209.500000   64.650501    4.370573   69.115372    3.597249   36.872416   \n",
       "std    121.387808   53.834549    2.854617   58.784775    2.186747   19.979082   \n",
       "min      0.000000    9.850000    1.140000   14.090000    1.000000   11.830000   \n",
       "25%    104.750000   25.170000    2.190000   28.050000    1.870000   21.297500   \n",
       "50%    209.500000   44.180000    3.500000   43.710000    2.945000   31.130000   \n",
       "75%    314.250000   90.310000    5.810000   97.520000    4.770000   47.120000   \n",
       "max    419.000000  420.000000   17.840000  422.000000   12.000000  117.070000   \n",
       "\n",
       "             femw        tibl        tibw        tarl        tarw  \n",
       "count  419.000000  418.000000  419.000000  419.000000  419.000000  \n",
       "mean     3.220883   64.662823    3.182339   39.229976    2.930024  \n",
       "std      2.023581   37.838145    2.080827   23.184313    2.185673  \n",
       "min      0.930000    5.500000    0.870000    7.770000    0.660000  \n",
       "25%      1.715000   36.417500    1.565000   23.035000    1.425000  \n",
       "50%      2.520000   52.120000    2.490000   31.740000    2.230000  \n",
       "75%      4.135000   82.870000    4.255000   50.250000    3.500000  \n",
       "max     11.640000  240.000000   11.030000  175.000000   14.090000  "
      ]
     },
     "execution_count": 4,
     "metadata": {},
     "output_type": "execute_result"
    }
   ],
   "source": [
    "print(\"Les statistiques du dataframe avant le pré traitement sont :\\n\")\n",
    "data.describe()"
   ]
  },
  {
   "cell_type": "code",
   "execution_count": 5,
   "id": "f3535732-e42e-49a8-927a-5f8bec82d3e5",
   "metadata": {},
   "outputs": [
    {
     "data": {
      "text/plain": [
       "float64    10\n",
       "int64       1\n",
       "object      1\n",
       "Name: count, dtype: int64"
      ]
     },
     "execution_count": 5,
     "metadata": {},
     "output_type": "execute_result"
    }
   ],
   "source": [
    "data.dtypes.value_counts()"
   ]
  },
  {
   "cell_type": "code",
   "execution_count": 6,
   "id": "b53a1e77-857d-419a-906b-c333e1f6f18f",
   "metadata": {},
   "outputs": [
    {
     "ename": "NameError",
     "evalue": "name 'counts_by_class' is not defined",
     "output_type": "error",
     "traceback": [
      "\u001b[0;31m---------------------------------------------------------------------------\u001b[0m",
      "\u001b[0;31mNameError\u001b[0m                                 Traceback (most recent call last)",
      "Cell \u001b[0;32mIn[6], line 1\u001b[0m\n\u001b[0;32m----> 1\u001b[0m \u001b[43mcounts_by_class\u001b[49m\u001b[38;5;241m.\u001b[39mplot(kind\u001b[38;5;241m=\u001b[39m\u001b[38;5;124m'\u001b[39m\u001b[38;5;124mbar\u001b[39m\u001b[38;5;124m'\u001b[39m)\n\u001b[1;32m      2\u001b[0m plt\u001b[38;5;241m.\u001b[39mplot()\n",
      "\u001b[0;31mNameError\u001b[0m: name 'counts_by_class' is not defined"
     ]
    }
   ],
   "source": [
    "counts_by_class.plot(kind='bar')\n",
    "plt.plot()"
   ]
  },
  {
   "cell_type": "code",
   "execution_count": null,
   "id": "a6a386cf-fdb6-4c5d-82ae-f1352901392a",
   "metadata": {},
   "outputs": [],
   "source": [
    "data.duplicated().sum()\n",
    "data.drop(\"id\",axis=1).duplicated().sum()"
   ]
  },
  {
   "cell_type": "code",
   "execution_count": null,
   "id": "51ced5ed-cc0d-43c9-8bdd-fb01acd9eb6f",
   "metadata": {},
   "outputs": [],
   "source": [
    "data.isna().sum().sum()"
   ]
  },
  {
   "cell_type": "code",
   "execution_count": null,
   "id": "bd02f83e-22a7-44d2-9a89-2060cfeb94e4",
   "metadata": {},
   "outputs": [],
   "source": [
    "data.isna().sum()"
   ]
  },
  {
   "cell_type": "markdown",
   "id": "ecb8a6f2-2884-47d7-8ab8-be327d6c875e",
   "metadata": {},
   "source": [
    "## Prétraitement des données "
   ]
  },
  {
   "cell_type": "code",
   "execution_count": null,
   "id": "f0582c0e-73df-417e-a23f-9b2190205dbc",
   "metadata": {},
   "outputs": [],
   "source": [
    "data.drop(\"id\", axis=1, inplace=True)"
   ]
  },
  {
   "cell_type": "code",
   "execution_count": null,
   "id": "f392d9a5-6ab0-4548-9333-b46bc11d9642",
   "metadata": {},
   "outputs": [],
   "source": [
    "numeric_columns = data.select_dtypes(exclude = \"object\").columns\n",
    "data[numeric_columns] = data[numeric_columns].fillna(data[numeric_columns].mean())"
   ]
  },
  {
   "cell_type": "code",
   "execution_count": null,
   "id": "22ff2084-639d-4859-a537-14639f4ff2a6",
   "metadata": {},
   "outputs": [],
   "source": [
    "data.isna().sum().sum()"
   ]
  },
  {
   "cell_type": "code",
   "execution_count": null,
   "id": "685e0671-bfa4-4b10-9c09-bb415dbd920f",
   "metadata": {},
   "outputs": [],
   "source": [
    "scaler = StandardScaler()\n",
    "data[numeric_columns] = scaler.fit_transform(data[numeric_columns])\n",
    "data"
   ]
  },
  {
   "cell_type": "code",
   "execution_count": null,
   "id": "35ef10ef-172c-426d-9037-b5947699a7b0",
   "metadata": {},
   "outputs": [],
   "source": [
    "encoder = LabelEncoder()\n",
    "data[\"type\"] = encoder.fit_transform(data[\"type\"])\n",
    "data[\"type\"]"
   ]
  },
  {
   "cell_type": "code",
   "execution_count": null,
   "id": "d6de6024-73e4-45d3-a4f5-9e2333d2d0dd",
   "metadata": {},
   "outputs": [],
   "source": [
    "correlation = data[numeric_columns].corr()\n",
    "\n",
    "sns.heatmap(correlation, annot=True,  cmap=\"crest\")\n",
    "plt.plot()\n",
    "plt.show()"
   ]
  },
  {
   "cell_type": "code",
   "execution_count": null,
   "id": "feb40313-72bf-47e0-8b71-efea15a89e92",
   "metadata": {},
   "outputs": [],
   "source": [
    "pca = PCA(n_components=10)\n",
    "pca.fit_transform(data[numeric_columns])"
   ]
  },
  {
   "cell_type": "code",
   "execution_count": null,
   "id": "2adfb3ea-5850-4d0c-b17e-d6aab70a8374",
   "metadata": {},
   "outputs": [],
   "source": [
    "pca_ratio = pd.Series(pca.explained_variance_ratio_)\n",
    "\n",
    "mylabels = [str(j+1)+\"PC\" for j in range(10)]\n",
    "pca_ratio.plot(kind = 'bar')\n",
    "plt.xticks(np.arange(10), mylabels)\n",
    "plt.title(\"Variance expliquée des composantes principales\")\n",
    "plt.ylabel(\"Variance\")\n",
    "plt.xlabel(\"Composantes principales\")\n",
    "plt.show()"
   ]
  },
  {
   "cell_type": "code",
   "execution_count": null,
   "id": "e2f530dc-e314-422e-ad17-707b80135ab1",
   "metadata": {},
   "outputs": [],
   "source": [
    "y = data[\"type\"].tolist()\n",
    "fig = plt.figure(figsize=(8, 6))\n",
    "ax = fig.add_subplot(111, projection='3d')\n",
    "\n",
    "ax.scatter(X_PCA[:, 0], X_PCA[:, 1], X_PCA[:, 2], c=labels, cmap='viridis')\n",
    "ax.set_xlabel('Première composante principale')\n",
    "ax.set_ylabel('Deuxième composante principale')\n",
    "ax.set_zlabel('Troisième composante principale')\n",
    "plt.title('Séparation des classes avec 3CP')\n",
    "plt.show()"
   ]
  },
  {
   "cell_type": "markdown",
   "id": "c0eab3e8-4fe2-457f-8bdc-955251f52218",
   "metadata": {},
   "source": [
    "## Classification des données"
   ]
  },
  {
   "cell_type": "markdown",
   "id": "27d86d4c-21ab-4f2a-86c6-d236df610406",
   "metadata": {},
   "source": [
    "### Données"
   ]
  },
  {
   "cell_type": "code",
   "execution_count": null,
   "id": "4a555fc5-841b-4b58-8891-f235365b1050",
   "metadata": {},
   "outputs": [],
   "source": [
    "X = data[numeric_columns]\n",
    "y = data[\"type\"]\n",
    "X_train, X_test, y_train, y_test = train_test_split(X, y, test_size=0.20, random_state=42)"
   ]
  },
  {
   "cell_type": "markdown",
   "id": "3b0ed95a-0983-4fad-8b13-18ad26d85c39",
   "metadata": {},
   "source": [
    "### N-Voisins"
   ]
  },
  {
   "cell_type": "markdown",
   "id": "9f88fdcf-fd9f-4dd6-a5f0-572096f21af0",
   "metadata": {},
   "source": [
    "#### Paramètres naïfs"
   ]
  },
  {
   "cell_type": "code",
   "execution_count": null,
   "id": "890d2262-9945-473e-961a-a590fde97019",
   "metadata": {},
   "outputs": [],
   "source": [
    "knn = KNeighborsClassifier(n_neighbors=5)\n",
    "knn.fit(X_train, y_train)\n",
    "knn.score(X_test, y_test)"
   ]
  },
  {
   "cell_type": "markdown",
   "id": "946e5850-4e50-412f-bc2c-3abcb8b92a66",
   "metadata": {},
   "source": [
    "#### Paramètres optimisés avec GridSearch"
   ]
  },
  {
   "cell_type": "code",
   "execution_count": null,
   "id": "f371c89b-f9eb-4abb-b4e4-b454f97258cd",
   "metadata": {},
   "outputs": [],
   "source": [
    "parameters = {\n",
    "    'n_neighbors':np.arange(1,11),\n",
    "    'metric': [\"minkowski\", \"euclidean\", \"cityblock\"]\n",
    "}\n",
    "\n",
    "knn = KNeighborsClassifier()\n",
    "knn_gs = GridSearchCV(knn, parameters, scoring=\"accuracy\", error_score='raise')\n",
    "knn_gs.fit(X_train, y_train)\n",
    "\n",
    "s, p = knn_gs.score(X_test, y_test), knn_gs.best_params_\n",
    "print(f\"Meilleurs paramètres : {p}, précision : {s}\")"
   ]
  },
  {
   "cell_type": "markdown",
   "id": "390d9ed6-33af-4b6f-8301-933b1936243e",
   "metadata": {},
   "source": [
    "### Régression logistique"
   ]
  },
  {
   "cell_type": "markdown",
   "id": "7ceed1fe-7ef5-4cf0-8453-d67f50e2a0af",
   "metadata": {},
   "source": [
    "#### Paramètres naïfs"
   ]
  },
  {
   "cell_type": "code",
   "execution_count": null,
   "id": "78ec852d-f26b-45e3-8caa-ad733364b45e",
   "metadata": {},
   "outputs": [],
   "source": [
    "lr = LogisticRegression(random_state=42, C=5, max_iter=1000, solver='liblinear')\n",
    "lr.fit(X_train, y_train)\n",
    "lr.score(X_test, y_test)"
   ]
  },
  {
   "cell_type": "markdown",
   "id": "af14c737-efdf-445a-b83f-f93877417efd",
   "metadata": {},
   "source": [
    "#### Paramètres optimisés avec GridSearch"
   ]
  },
  {
   "cell_type": "code",
   "execution_count": null,
   "id": "aba72960-41a5-4c66-b9a2-73116b70571c",
   "metadata": {},
   "outputs": [],
   "source": [
    "parameters = {\n",
    "    'penalty':['l1', 'l2'], \n",
    "    'C': np.logspace(-3, 1, 20)\n",
    "}\n",
    "\n",
    "lr_gs = GridSearchCV(lr, parameters, scoring=\"accuracy\", error_score='raise')\n",
    "lr_gs.fit(X_train, y_train)\n",
    "s, p = lr_gs.score(X_test, y_test), lr_gs.best_params_\n",
    "\n",
    "print(f\"Meilleurs paramètres : {p}, précision : {s}\")"
   ]
  },
  {
   "cell_type": "markdown",
   "id": "8b010712-2fa1-44be-9404-b12ad808b922",
   "metadata": {},
   "source": [
    "### Centroïdes"
   ]
  },
  {
   "cell_type": "markdown",
   "id": "469029d0-eea1-4ec2-933f-e8c8f38698b8",
   "metadata": {},
   "source": [
    "#### Paramètres naïfs"
   ]
  },
  {
   "cell_type": "code",
   "execution_count": 7,
   "id": "5389f3cd-5c59-444f-a50a-84c6b8fe39ca",
   "metadata": {},
   "outputs": [
    {
     "ename": "NameError",
     "evalue": "name 'X_train' is not defined",
     "output_type": "error",
     "traceback": [
      "\u001b[0;31m---------------------------------------------------------------------------\u001b[0m",
      "\u001b[0;31mNameError\u001b[0m                                 Traceback (most recent call last)",
      "Cell \u001b[0;32mIn[7], line 2\u001b[0m\n\u001b[1;32m      1\u001b[0m ct \u001b[38;5;241m=\u001b[39m NearestCentroid()\n\u001b[0;32m----> 2\u001b[0m ct\u001b[38;5;241m.\u001b[39mfit(\u001b[43mX_train\u001b[49m, y_train)\n\u001b[1;32m      3\u001b[0m ct\u001b[38;5;241m.\u001b[39mscore(X_test, y_test)\n",
      "\u001b[0;31mNameError\u001b[0m: name 'X_train' is not defined"
     ]
    }
   ],
   "source": [
    "ct = NearestCentroid()\n",
    "ct.fit(X_train, y_train)\n",
    "ct.score(X_test, y_test)"
   ]
  },
  {
   "cell_type": "markdown",
   "id": "62740fe3-cb1b-4766-8fc0-f591b6bdaa2e",
   "metadata": {},
   "source": [
    "#### Paramètres optimisés avec GridSearch"
   ]
  },
  {
   "cell_type": "code",
   "execution_count": 238,
   "id": "33d7ff01-a9ca-44a2-b6bc-22e9be67982f",
   "metadata": {},
   "outputs": [
    {
     "name": "stdout",
     "output_type": "stream",
     "text": [
      "Meilleurs paramètres : {'metric': 'manhattan'}, précision : 0.47619047619047616\n"
     ]
    }
   ],
   "source": [
    "parameters = {\n",
    "    'metric': [\"euclidean\", \"manhattan\"]\n",
    "}\n",
    "\n",
    "ct_gs = GridSearchCV(ct, parameters, scoring=\"accuracy\", error_score='raise', refit=True)\n",
    "ct_gs.fit(X_train, y_train)\n",
    "s, p = ct_gs.score(X_test, y_test), ct_gs.best_params_\n",
    "\n",
    "print(f\"Meilleurs paramètres : {p}, précision : {s}\")"
   ]
  }
 ],
 "metadata": {
  "kernelspec": {
   "display_name": "Python 3 (ipykernel)",
   "language": "python",
   "name": "python3"
  },
  "language_info": {
   "codemirror_mode": {
    "name": "ipython",
    "version": 3
   },
   "file_extension": ".py",
   "mimetype": "text/x-python",
   "name": "python",
   "nbconvert_exporter": "python",
   "pygments_lexer": "ipython3",
   "version": "3.11.6"
  }
 },
 "nbformat": 4,
 "nbformat_minor": 5
}
